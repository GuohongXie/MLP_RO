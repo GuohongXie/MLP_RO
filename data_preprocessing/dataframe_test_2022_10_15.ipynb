{
 "cells": [
  {
   "cell_type": "code",
   "execution_count": 1,
   "source": [
    "import numpy as np\r\n",
    "import pandas as pd  \r\n",
    "import os\r\n",
    "import random\r\n",
    "from sklearn import preprocessing"
   ],
   "outputs": [],
   "metadata": {}
  },
  {
   "cell_type": "code",
   "execution_count": 2,
   "source": [
    "train_csv_650 = r'../../data/train_and_valid_merged_csv_single_minmax_xyz/train_data_csv/train_data_csv_650.csv' \r\n",
    "#train_csv_650_Qtot = r'../../data/train_and_valid_merged_csv_Qtot/train_data_csv/train_data_csv_650.csv'\r\n",
    "#train_csv_inside = r'../../data/merged_csv_inside/train_inside_csv_650/train_inside_csv_650.csv'\r\n",
    "#train_csv_outside = r'../../data/merged_csv_outside/train_outside_csv_650/train_outside_csv_650.csv'\r\n",
    "\r\n",
    "# valid_csv_all = r'../../data/merged_csv/valid_data_csv_74/valid_data_csv_74.csv'\r\n",
    "# valid_csv_inside = r'../../data/merged_csv_inside/valid_inside_csv_74/valid_inside_csv_74.csv'\r\n",
    "# valid_csv_outside = r'../../data/merged_csv_outside/valid_outside_csv_74/valid_outside_csv_74.csv'"
   ],
   "outputs": [],
   "metadata": {}
  },
  {
   "cell_type": "code",
   "execution_count": 3,
   "source": [
    "df_train = pd.read_csv(train_csv_650,\\\r\n",
    "                         header = None,\\\r\n",
    "                         names=['x','y','z','D1A','D2A','D1B','D2B','angle','Qtot','Dtot','U','P','C'],\\\r\n",
    "                         encoding=\"utf8\")  #编码默认UTF-8，若乱码自行更改\r\n",
    "\r\n",
    "\r\n",
    "print(\"the lenth of df_train is %d\"%len(df_train))\r\n",
    "#print(\"the lenth of df_train_inside is %d\"%len(df_train_inside))\r\n",
    "#print(\"the lenth of df_train_outside is %d\"%len(df_train_outside))"
   ],
   "outputs": [
    {
     "output_type": "stream",
     "name": "stdout",
     "text": [
      "the lenth of df_train is 148278770\n"
     ]
    }
   ],
   "metadata": {}
  },
  {
   "cell_type": "code",
   "execution_count": 4,
   "source": [
    "print(df_train.max())\r\n",
    "print(df_train.min())\r\n",
    "print(df_train.max() - df_train.min())"
   ],
   "outputs": [
    {
     "output_type": "stream",
     "name": "stdout",
     "text": [
      "x           1.0000\n",
      "y           1.0000\n",
      "z           1.0000\n",
      "D1A         0.0006\n",
      "D2A         0.0003\n",
      "D1B         0.0006\n",
      "D2B         0.0003\n",
      "angle     120.0000\n",
      "Qtot      373.0800\n",
      "Dtot        0.0011\n",
      "U           0.6308\n",
      "P        2171.8000\n",
      "C        1892.6000\n",
      "dtype: float64\n",
      "x          0.0000\n",
      "y          0.0000\n",
      "z          0.0000\n",
      "D1A        0.0003\n",
      "D2A        0.0002\n",
      "D1B        0.0003\n",
      "D2B        0.0002\n",
      "angle     30.0000\n",
      "Qtot      45.3730\n",
      "Dtot       0.0005\n",
      "U          0.0000\n",
      "P        -52.8990\n",
      "C        600.0000\n",
      "dtype: float64\n",
      "x           1.0000\n",
      "y           1.0000\n",
      "z           1.0000\n",
      "D1A         0.0003\n",
      "D2A         0.0001\n",
      "D1B         0.0003\n",
      "D2B         0.0001\n",
      "angle      90.0000\n",
      "Qtot      327.7070\n",
      "Dtot        0.0006\n",
      "U           0.6308\n",
      "P        2224.6990\n",
      "C        1292.6000\n",
      "dtype: float64\n"
     ]
    }
   ],
   "metadata": {}
  }
 ],
 "metadata": {
  "kernelspec": {
   "name": "python3",
   "display_name": "Python 3.7.6 64-bit ('guohong_gpu_torch_07': conda)"
  },
  "language_info": {
   "codemirror_mode": {
    "name": "ipython",
    "version": 3
   },
   "file_extension": ".py",
   "mimetype": "text/x-python",
   "name": "python",
   "nbconvert_exporter": "python",
   "pygments_lexer": "ipython3",
   "version": "3.7.6"
  },
  "vscode": {
   "interpreter": {
    "hash": "68ce2db4f95e5a5826e05a32e856e8e3c3a5bef20f184cbe66513acc1e64847d"
   }
  },
  "interpreter": {
   "hash": "a5e03b45d865caaf75c1c74f712f470af6adec536fb6a3405db1e7558a3d752e"
  }
 },
 "nbformat": 4,
 "nbformat_minor": 5
}