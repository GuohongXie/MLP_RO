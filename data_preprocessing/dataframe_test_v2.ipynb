{
 "cells": [
  {
   "cell_type": "code",
   "execution_count": 1,
   "metadata": {},
   "outputs": [],
   "source": [
    "import numpy as np\n",
    "import pandas as pd  \n",
    "import os\n",
    "import random\n",
    "from sklearn import preprocessing"
   ]
  },
  {
   "cell_type": "code",
   "execution_count": 2,
   "metadata": {},
   "outputs": [],
   "source": [
    "train_csv_650_u = r'../../data/train_and_valid_merged_csv_u/train_data_csv/train_data_csv_650.csv' \n",
    "train_csv_650_Qtot = r'../../data/train_and_valid_merged_csv_Qtot/train_data_csv/train_data_csv_650.csv'\n",
    "#train_csv_inside = r'../../data/merged_csv_inside/train_inside_csv_650/train_inside_csv_650.csv'\n",
    "#train_csv_outside = r'../../data/merged_csv_outside/train_outside_csv_650/train_outside_csv_650.csv'\n",
    "\n",
    "# valid_csv_all = r'../../data/merged_csv/valid_data_csv_74/valid_data_csv_74.csv'\n",
    "# valid_csv_inside = r'../../data/merged_csv_inside/valid_inside_csv_74/valid_inside_csv_74.csv'\n",
    "# valid_csv_outside = r'../../data/merged_csv_outside/valid_outside_csv_74/valid_outside_csv_74.csv'"
   ]
  },
  {
   "cell_type": "code",
   "execution_count": 3,
   "metadata": {},
   "outputs": [
    {
     "name": "stdout",
     "output_type": "stream",
     "text": [
      "the lenth of df_train_u is 148374854\n",
      "the lenth of df_train_Qtot is 148374854\n"
     ]
    }
   ],
   "source": [
    "df_train_u = pd.read_csv(train_csv_650_u,\\\n",
    "                         header = None,\\\n",
    "                         names=['x','y','z','D1A','D2A','D1B','D2B','angle','u','Dtot','U','P','C'],\\\n",
    "                         encoding=\"utf8\")  #编码默认UTF-8，若乱码自行更改\n",
    "\n",
    "df_train_Qtot = pd.read_csv(train_csv_650_Qtot,\\\n",
    "                         header = None,\\\n",
    "                         names=['x','y','z','D1A','D2A','D1B','D2B','angle','Qtot','Dtot','U','P','C'],\\\n",
    "                         encoding=\"utf8\")  #编码默认UTF-8，若乱码自行更改\n",
    "print(\"the lenth of df_train_u is %d\"%len(df_train_u))\n",
    "print(\"the lenth of df_train_Qtot is %d\"%len(df_train_Qtot))\n",
    "#print(\"the lenth of df_train_inside is %d\"%len(df_train_inside))\n",
    "#print(\"the lenth of df_train_outside is %d\"%len(df_train_outside))"
   ]
  },
  {
   "cell_type": "code",
   "execution_count": 4,
   "metadata": {},
   "outputs": [
    {
     "name": "stdout",
     "output_type": "stream",
     "text": [
      "x           0.026853\n",
      "y           0.002408\n",
      "z           0.000545\n",
      "D1A         0.000600\n",
      "D2A         0.000300\n",
      "D1B         0.000600\n",
      "D2B         0.000300\n",
      "angle     120.000000\n",
      "u           0.193190\n",
      "Dtot        0.001100\n",
      "U           0.630800\n",
      "P        2171.800000\n",
      "C        1892.600000\n",
      "dtype: float64\n",
      "x          0.000000\n",
      "y         -0.002408\n",
      "z         -0.000545\n",
      "D1A        0.000300\n",
      "D2A        0.000200\n",
      "D1B        0.000300\n",
      "D2B        0.000200\n",
      "angle     30.000000\n",
      "u          0.045905\n",
      "Dtot       0.000500\n",
      "U          0.000000\n",
      "P        -52.899000\n",
      "C        600.000000\n",
      "dtype: float64\n",
      "x           0.026853\n",
      "y           0.004815\n",
      "z           0.001090\n",
      "D1A         0.000300\n",
      "D2A         0.000100\n",
      "D1B         0.000300\n",
      "D2B         0.000100\n",
      "angle      90.000000\n",
      "u           0.147285\n",
      "Dtot        0.000600\n",
      "U           0.630800\n",
      "P        2224.699000\n",
      "C        1292.600000\n",
      "dtype: float64\n"
     ]
    }
   ],
   "source": [
    "print(df_train_u.max())\n",
    "print(df_train_u.min())\n",
    "print(df_train_u.max() - df_train_u.min())"
   ]
  },
  {
   "cell_type": "code",
   "execution_count": 5,
   "metadata": {},
   "outputs": [
    {
     "name": "stdout",
     "output_type": "stream",
     "text": [
      "x           0.026853\n",
      "y           0.002408\n",
      "z           0.000545\n",
      "D1A         0.000600\n",
      "D2A         0.000300\n",
      "D1B         0.000600\n",
      "D2B         0.000300\n",
      "angle     120.000000\n",
      "Qtot      373.080000\n",
      "Dtot        0.001100\n",
      "U           0.630800\n",
      "P        2171.800000\n",
      "C        1892.600000\n",
      "dtype: float64\n",
      "x       -1.503900e-15\n",
      "y       -2.407600e-03\n",
      "z       -5.450000e-04\n",
      "D1A      3.000000e-04\n",
      "D2A      2.000000e-04\n",
      "D1B      3.000000e-04\n",
      "D2B      2.000000e-04\n",
      "angle    3.000000e+01\n",
      "Qtot     4.537300e+01\n",
      "Dtot     5.000000e-04\n",
      "U        0.000000e+00\n",
      "P       -5.289900e+01\n",
      "C        6.000000e+02\n",
      "dtype: float64\n",
      "x           0.026853\n",
      "y           0.004815\n",
      "z           0.001090\n",
      "D1A         0.000300\n",
      "D2A         0.000100\n",
      "D1B         0.000300\n",
      "D2B         0.000100\n",
      "angle      90.000000\n",
      "Qtot      327.707000\n",
      "Dtot        0.000600\n",
      "U           0.630800\n",
      "P        2224.699000\n",
      "C        1292.600000\n",
      "dtype: float64\n"
     ]
    }
   ],
   "source": [
    "print(df_train_Qtot.max())\n",
    "print(df_train_Qtot.min())\n",
    "print(df_train_Qtot.max() - df_train_Qtot.min())"
   ]
  },
  {
   "cell_type": "code",
   "execution_count": 6,
   "metadata": {},
   "outputs": [
    {
     "data": {
      "text/plain": [
       "(array([], dtype=int64), array([], dtype=int64))"
      ]
     },
     "execution_count": 6,
     "metadata": {},
     "output_type": "execute_result"
    }
   ],
   "source": [
    "np.where(np.isnan(df_train_u))"
   ]
  },
  {
   "cell_type": "code",
   "execution_count": 7,
   "metadata": {},
   "outputs": [
    {
     "data": {
      "text/plain": [
       "(array([], dtype=int64), array([], dtype=int64))"
      ]
     },
     "execution_count": 7,
     "metadata": {},
     "output_type": "execute_result"
    }
   ],
   "source": [
    "np.where(np.isinf(df_train_u)) #这个和上面那个就已经确保了df里面没有inf和nan值"
   ]
  },
  {
   "cell_type": "code",
   "execution_count": 8,
   "metadata": {},
   "outputs": [
    {
     "data": {
      "text/plain": [
       "(array([], dtype=int64), array([], dtype=int64))"
      ]
     },
     "execution_count": 8,
     "metadata": {},
     "output_type": "execute_result"
    }
   ],
   "source": [
    "np.where(np.isnan(df_train_Qtot))"
   ]
  },
  {
   "cell_type": "code",
   "execution_count": 9,
   "metadata": {},
   "outputs": [
    {
     "data": {
      "text/plain": [
       "(array([], dtype=int64), array([], dtype=int64))"
      ]
     },
     "execution_count": 9,
     "metadata": {},
     "output_type": "execute_result"
    }
   ],
   "source": [
    "np.where(np.isinf(df_train_Qtot))"
   ]
  },
  {
   "cell_type": "code",
   "execution_count": 7,
   "metadata": {},
   "outputs": [],
   "source": [
    "#所以这两个也是不需要的\n",
    "#df.replace(\"nan\",np.nan, inplace = True)\n",
    "#print(len(df))"
   ]
  },
  {
   "cell_type": "code",
   "execution_count": 8,
   "metadata": {},
   "outputs": [],
   "source": [
    "#df.dropna(inplace=True)  #处理很大的dataframe时，用dropna()会报错，这是pandas自己的问题\n",
    "#由于上面已经检查过了，我们的代码不需要dropna()\n",
    "#df.replace([np.inf, -np.inf], np.nan).dropna(axis=0, inplace=True)\n",
    "#print(len(df))"
   ]
  },
  {
   "cell_type": "code",
   "execution_count": 9,
   "metadata": {},
   "outputs": [
    {
     "name": "stdout",
     "output_type": "stream",
     "text": [
      "<class 'numpy.ndarray'>\n"
     ]
    }
   ],
   "source": [
    "#print(type(df))\n",
    "#df = preprocessing.MinMaxScaler().fit_transform(df)\n",
    "#print(type(df))\n",
    "X = df.values[:, :-3].astype('float32')\n",
    "print(type(X))"
   ]
  },
  {
   "cell_type": "code",
   "execution_count": 10,
   "metadata": {},
   "outputs": [
    {
     "name": "stdout",
     "output_type": "stream",
     "text": [
      "184605532\n",
      "10\n",
      "[1.0000e+00 3.3880e-02 2.6952e-01 3.0000e-04 2.0000e-04 3.0000e-04\n",
      " 3.0000e-04 6.6000e+01 9.0753e+01 5.0000e-04]\n"
     ]
    }
   ],
   "source": [
    "print(len(X))\n",
    "print(len(X[1]))\n",
    "print(X[1])"
   ]
  },
  {
   "cell_type": "code",
   "execution_count": 11,
   "metadata": {},
   "outputs": [
    {
     "name": "stdout",
     "output_type": "stream",
     "text": [
      "<class 'pandas.core.frame.DataFrame'>\n",
      "<class 'pandas.core.frame.DataFrame'>\n"
     ]
    },
    {
     "data": {
      "image/png": "[encoded data removed]",
      "text/plain": [
       "<Figure size 432x288 with 1 Axes>"
      ]
     },
     "metadata": {
      "needs_background": "light"
     },
     "output_type": "display_data"
    }
   ],
   "source": [
    "df[['z']] = preprocessing.MinMaxScaler(feature_range=(-1, 1)).fit_transform(df[['z']])\n",
    "U=df['z'].hist().get_figure()\n",
    "print(type(df))\n",
    "print(type(df[['z']]))"
   ]
  },
  {
   "cell_type": "code",
   "execution_count": 12,
   "metadata": {},
   "outputs": [
    {
     "data": {
      "image/png": "[encoded data removed]",
      "text/plain": [
       "<Figure size 432x288 with 1 Axes>"
      ]
     },
     "metadata": {
      "needs_background": "light"
     },
     "output_type": "display_data"
    }
   ],
   "source": [
    "df[['z']] = preprocessing.MinMaxScaler().fit_transform(df[['z']])\n",
    "U=df['z'].hist().get_figure()"
   ]
  },
  {
   "cell_type": "code",
   "execution_count": 13,
   "metadata": {},
   "outputs": [
    {
     "name": "stdout",
     "output_type": "stream",
     "text": [
      "U    0.62367\n",
      "dtype: float64\n",
      "U    0.0\n",
      "dtype: float64\n"
     ]
    },
    {
     "data": {
      "image/png": "[encoded data removed]",
      "text/plain": [
       "<Figure size 432x288 with 1 Axes>"
      ]
     },
     "metadata": {
      "needs_background": "light"
     },
     "output_type": "display_data"
    }
   ],
   "source": [
    "print(df[['U']].max())\n",
    "print(df[['U']].min())\n",
    "U=df['U'].hist().get_figure()"
   ]
  },
  {
   "cell_type": "code",
   "execution_count": 14,
   "metadata": {},
   "outputs": [
    {
     "data": {
      "image/png": "[encoded data removed]",
      "text/plain": [
       "<Figure size 432x288 with 1 Axes>"
      ]
     },
     "metadata": {
      "needs_background": "light"
     },
     "output_type": "display_data"
    }
   ],
   "source": [
    "df[['z']] = preprocessing.MinMaxScaler().fit_transform(df[['U']])\n",
    "U=df['z'].hist().get_figure()"
   ]
  },
  {
   "cell_type": "code",
   "execution_count": 15,
   "metadata": {},
   "outputs": [
    {
     "data": {
      "image/png": "[encoded data removed]",
      "text/plain": [
       "<Figure size 432x288 with 1 Axes>"
      ]
     },
     "metadata": {
      "needs_background": "light"
     },
     "output_type": "display_data"
    }
   ],
   "source": [
    "df[['z']] = preprocessing.MinMaxScaler(feature_range=(-1, 1)).fit_transform(df[['U']])\n",
    "U=df['z'].hist().get_figure()"
   ]
  },
  {
   "cell_type": "code",
   "execution_count": 16,
   "metadata": {},
   "outputs": [
    {
     "name": "stdout",
     "output_type": "stream",
     "text": [
      "z    9.570165\n",
      "dtype: float64\n",
      "z   -0.597774\n",
      "dtype: float64\n"
     ]
    },
    {
     "data": {
      "image/png": "[encoded data removed]",
      "text/plain": [
       "<Figure size 432x288 with 1 Axes>"
      ]
     },
     "metadata": {
      "needs_background": "light"
     },
     "output_type": "display_data"
    }
   ],
   "source": [
    "df[['z']] = preprocessing.StandardScaler().fit_transform(df[['U']])\n",
    "print(df[['z']].max())\n",
    "print(df[['z']].min())\n",
    "U=df['z'].hist().get_figure()"
   ]
  },
  {
   "cell_type": "code",
   "execution_count": 17,
   "metadata": {},
   "outputs": [
    {
     "name": "stdout",
     "output_type": "stream",
     "text": [
      "z    1.0\n",
      "dtype: float64\n",
      "z    0.0\n",
      "dtype: float64\n"
     ]
    },
    {
     "data": {
      "image/png": "[encoded data removed]",
      "text/plain": [
       "<Figure size 432x288 with 1 Axes>"
      ]
     },
     "metadata": {
      "needs_background": "light"
     },
     "output_type": "display_data"
    }
   ],
   "source": [
    "df[['z']] = preprocessing.MaxAbsScaler().fit_transform(df[['U']])\n",
    "print(df[['z']].max())\n",
    "print(df[['z']].min())\n",
    "U=df['z'].hist().get_figure()"
   ]
  },
  {
   "cell_type": "code",
   "execution_count": 18,
   "metadata": {},
   "outputs": [
    {
     "name": "stdout",
     "output_type": "stream",
     "text": [
      "z    1.0\n",
      "dtype: float64\n",
      "z    0.0\n",
      "dtype: float64\n"
     ]
    },
    {
     "data": {
      "image/png": "[encoded data removed]",
      "text/plain": [
       "<Figure size 432x288 with 1 Axes>"
      ]
     },
     "metadata": {
      "needs_background": "light"
     },
     "output_type": "display_data"
    }
   ],
   "source": [
    "df[['z']] = preprocessing.Normalizer().fit_transform(df[['U']])\n",
    "print(df[['z']].max())\n",
    "print(df[['z']].min())\n",
    "U=df['z'].hist().get_figure()"
   ]
  },
  {
   "cell_type": "code",
   "execution_count": 19,
   "metadata": {},
   "outputs": [
    {
     "name": "stdout",
     "output_type": "stream",
     "text": [
      "P    2171.8\n",
      "dtype: float64\n",
      "P   -52.899\n",
      "dtype: float64\n"
     ]
    },
    {
     "data": {
      "image/png": "[encoded data removed]",
      "text/plain": [
       "<Figure size 432x288 with 1 Axes>"
      ]
     },
     "metadata": {
      "needs_background": "light"
     },
     "output_type": "display_data"
    }
   ],
   "source": [
    "print(df[['P']].max())\n",
    "print(df[['P']].min())\n",
    "P=df['P'].hist().get_figure()\n",
    "#d.savefig('x.jpg')"
   ]
  },
  {
   "cell_type": "code",
   "execution_count": 20,
   "metadata": {},
   "outputs": [
    {
     "data": {
      "image/png": "[encoded data removed]",
      "text/plain": [
       "<Figure size 432x288 with 1 Axes>"
      ]
     },
     "metadata": {
      "needs_background": "light"
     },
     "output_type": "display_data"
    }
   ],
   "source": [
    "df[['z']] = preprocessing.MinMaxScaler().fit_transform(df[['P']])\n",
    "P=df['z'].hist().get_figure()"
   ]
  },
  {
   "cell_type": "code",
   "execution_count": 21,
   "metadata": {},
   "outputs": [
    {
     "name": "stdout",
     "output_type": "stream",
     "text": [
      "z    12.978921\n",
      "dtype: float64\n",
      "z   -1.436115\n",
      "dtype: float64\n"
     ]
    },
    {
     "data": {
      "image/png": "[encoded data removed]",
      "text/plain": [
       "<Figure size 432x288 with 1 Axes>"
      ]
     },
     "metadata": {
      "needs_background": "light"
     },
     "output_type": "display_data"
    }
   ],
   "source": [
    "df[['z']] = preprocessing.StandardScaler().fit_transform(df[['P']])\n",
    "print(df[['z']].max())\n",
    "print(df[['z']].min())\n",
    "P=df['z'].hist().get_figure()"
   ]
  },
  {
   "cell_type": "code",
   "execution_count": 22,
   "metadata": {},
   "outputs": [
    {
     "name": "stdout",
     "output_type": "stream",
     "text": [
      "z    1.0\n",
      "dtype: float64\n",
      "z   -0.024357\n",
      "dtype: float64\n"
     ]
    },
    {
     "data": {
      "image/png": "[encoded data removed]",
      "text/plain": [
       "<Figure size 432x288 with 1 Axes>"
      ]
     },
     "metadata": {
      "needs_background": "light"
     },
     "output_type": "display_data"
    }
   ],
   "source": [
    "df[['z']] = preprocessing.MaxAbsScaler().fit_transform(df[['P']])\n",
    "print(df[['z']].max())\n",
    "print(df[['z']].min())\n",
    "U=df['z'].hist().get_figure()"
   ]
  },
  {
   "cell_type": "code",
   "execution_count": 23,
   "metadata": {},
   "outputs": [
    {
     "name": "stdout",
     "output_type": "stream",
     "text": [
      "z    1.0\n",
      "dtype: float64\n",
      "z   -1.0\n",
      "dtype: float64\n"
     ]
    },
    {
     "data": {
      "image/png": "[encoded data removed]",
      "text/plain": [
       "<Figure size 432x288 with 1 Axes>"
      ]
     },
     "metadata": {
      "needs_background": "light"
     },
     "output_type": "display_data"
    }
   ],
   "source": [
    "df[['z']] = preprocessing.Normalizer().fit_transform(df[['P']])\n",
    "print(df[['z']].max())\n",
    "print(df[['z']].min())\n",
    "P=df['z'].hist().get_figure()"
   ]
  },
  {
   "cell_type": "code",
   "execution_count": 24,
   "metadata": {},
   "outputs": [
    {
     "name": "stdout",
     "output_type": "stream",
     "text": [
      "C    1892.6\n",
      "dtype: float64\n",
      "C    610.0\n",
      "dtype: float64\n"
     ]
    },
    {
     "data": {
      "image/png": "[encoded data removed]",
      "text/plain": [
       "<Figure size 432x288 with 1 Axes>"
      ]
     },
     "metadata": {
      "needs_background": "light"
     },
     "output_type": "display_data"
    }
   ],
   "source": [
    "print(df[['C']].max())\n",
    "print(df[['C']].min())\n",
    "C=df['C'].hist().get_figure()"
   ]
  },
  {
   "cell_type": "code",
   "execution_count": 25,
   "metadata": {},
   "outputs": [
    {
     "data": {
      "image/png": "[encoded data removed]",
      "text/plain": [
       "<Figure size 432x288 with 1 Axes>"
      ]
     },
     "metadata": {
      "needs_background": "light"
     },
     "output_type": "display_data"
    }
   ],
   "source": [
    "df[['z']] = preprocessing.MinMaxScaler().fit_transform(df[['C']])\n",
    "C=df['z'].hist().get_figure()"
   ]
  },
  {
   "cell_type": "code",
   "execution_count": 26,
   "metadata": {},
   "outputs": [
    {
     "name": "stdout",
     "output_type": "stream",
     "text": [
      "z    14.286869\n",
      "dtype: float64\n",
      "z   -0.7806\n",
      "dtype: float64\n"
     ]
    },
    {
     "data": {
      "image/png": "[encoded data removed]",
      "text/plain": [
       "<Figure size 432x288 with 1 Axes>"
      ]
     },
     "metadata": {
      "needs_background": "light"
     },
     "output_type": "display_data"
    }
   ],
   "source": [
    "df[['z']] = preprocessing.StandardScaler().fit_transform(df[['C']])\n",
    "print(df[['z']].max())\n",
    "print(df[['z']].min())\n",
    "C=df['z'].hist().get_figure()"
   ]
  },
  {
   "cell_type": "code",
   "execution_count": 27,
   "metadata": {},
   "outputs": [
    {
     "name": "stdout",
     "output_type": "stream",
     "text": [
      "z    1.0\n",
      "dtype: float64\n",
      "z    0.322308\n",
      "dtype: float64\n"
     ]
    },
    {
     "data": {
      "image/png": "[encoded data removed]",
      "text/plain": [
       "<Figure size 432x288 with 1 Axes>"
      ]
     },
     "metadata": {
      "needs_background": "light"
     },
     "output_type": "display_data"
    }
   ],
   "source": [
    "df[['z']] = preprocessing.MaxAbsScaler().fit_transform(df[['C']])\n",
    "print(df[['z']].max())\n",
    "print(df[['z']].min())\n",
    "U=df['z'].hist().get_figure()"
   ]
  },
  {
   "cell_type": "code",
   "execution_count": 28,
   "metadata": {},
   "outputs": [
    {
     "name": "stdout",
     "output_type": "stream",
     "text": [
      "z    1.0\n",
      "dtype: float64\n",
      "z    1.0\n",
      "dtype: float64\n"
     ]
    },
    {
     "data": {
      "image/png": "[encoded data removed]",
      "text/plain": [
       "<Figure size 432x288 with 1 Axes>"
      ]
     },
     "metadata": {
      "needs_background": "light"
     },
     "output_type": "display_data"
    }
   ],
   "source": [
    "df[['z']] = preprocessing.Normalizer().fit_transform(df[['C']])\n",
    "print(df[['z']].max())\n",
    "print(df[['z']].min())\n",
    "C=df['z'].hist().get_figure()"
   ]
  },
  {
   "cell_type": "code",
   "execution_count": null,
   "metadata": {},
   "outputs": [],
   "source": []
  }
 ],
 "metadata": {
  "kernelspec": {
   "display_name": "Python 3",
   "language": "python",
   "name": "python3"
  },
  "language_info": {
   "codemirror_mode": {
    "name": "ipython",
    "version": 3
   },
   "file_extension": ".py",
   "mimetype": "text/x-python",
   "name": "python",
   "nbconvert_exporter": "python",
   "pygments_lexer": "ipython3",
   "version": "3.7.6"
  },
  "vscode": {
   "interpreter": {
    "hash": "68ce2db4f95e5a5826e05a32e856e8e3c3a5bef20f184cbe66513acc1e64847d"
   }
  }
 },
 "nbformat": 4,
 "nbformat_minor": 5
}
