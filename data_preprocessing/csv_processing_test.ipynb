{
 "cells": [
  {
   "cell_type": "code",
   "execution_count": 1,
   "id": "apart-calgary",
   "metadata": {},
   "outputs": [],
   "source": [
    "import os\n",
    "import random\n",
    "import numpy as np\n",
    "import pandas as pd  \n",
    "from sklearn import preprocessing"
   ]
  },
  {
   "cell_type": "code",
   "execution_count": 2,
   "id": "expanded-nelson",
   "metadata": {},
   "outputs": [
    {
     "name": "stdout",
     "output_type": "stream",
     "text": [
      "['1.csv', '2.csv', '3.csv', '4.csv', '5.csv', '6.csv', '7.csv', '8.csv', '9.csv', '10.csv', '11.csv', '12.csv', '13.csv', '14.csv', '15.csv', '16.csv', '17.csv', '18.csv', '19.csv', '20.csv', '21.csv', '22.csv', '23.csv', '24.csv', '25.csv', '26.csv', '27.csv', '28.csv', '29.csv', '30.csv']\n"
     ]
    }
   ],
   "source": [
    "Folder_Path= r'D:\\xgh_MLN_projects_2022_04_12_edit\\data\\raw_csv_all_734'    #要拼接的文件夹及其完整路径，注意不要包含中文\n",
    "file_list = os.listdir(Folder_Path)\n",
    "file_list.sort(key= lambda x:int(x[:-4]))\n",
    "print(file_list)"
   ]
  },
  {
   "cell_type": "code",
   "execution_count": 3,
   "id": "analyzed-response",
   "metadata": {},
   "outputs": [
    {
     "name": "stdout",
     "output_type": "stream",
     "text": [
      "               x         y         z     D1A     D2A       D1B      D2B  \\\n",
      "0       0.026840  0.000651 -0.000506  0.0006  0.0003  0.000525  0.00025   \n",
      "1       0.026853  0.000644 -0.000502  0.0006  0.0003  0.000525  0.00025   \n",
      "2       0.026853  0.000642 -0.000505  0.0006  0.0003  0.000525  0.00025   \n",
      "3       0.026853  0.000662 -0.000507  0.0006  0.0003  0.000525  0.00025   \n",
      "4       0.026838  0.000666 -0.000507  0.0006  0.0003  0.000525  0.00025   \n",
      "...          ...       ...       ...     ...     ...       ...      ...   \n",
      "194725  0.000043 -0.000640 -0.000507  0.0006  0.0003  0.000525  0.00025   \n",
      "194726  0.000047 -0.000620 -0.000507  0.0006  0.0003  0.000525  0.00025   \n",
      "194727  0.000047 -0.000621 -0.000507  0.0006  0.0003  0.000525  0.00025   \n",
      "194728  0.000043 -0.000641 -0.000507  0.0006  0.0003  0.000525  0.00025   \n",
      "194729  0.000043 -0.000641 -0.000507  0.0006  0.0003  0.000525  0.00025   \n",
      "\n",
      "        angle    Qtot      Dtot         U          P        C  \n",
      "0          30  169.16  0.001025  0.000033    0.43763  1104.60  \n",
      "1          30  169.16  0.001025  0.000000    0.26867  1086.30  \n",
      "2          30  169.16  0.001025  0.000124    0.23656  1081.20  \n",
      "3          30  169.16  0.001025  0.000000    0.20688  1137.70  \n",
      "4          30  169.16  0.001025  0.000000    0.48307  1137.70  \n",
      "...       ...     ...       ...       ...        ...      ...  \n",
      "194725     30  169.16  0.001025  0.000341  138.45000   713.28  \n",
      "194726     30  169.16  0.001025  0.000368  138.13000   661.17  \n",
      "194727     30  169.16  0.001025  0.000227  138.10000   664.09  \n",
      "194728     30  169.16  0.001025  0.000234  138.43000   717.65  \n",
      "194729     30  169.16  0.001025  0.000144  138.40000   721.30  \n",
      "\n",
      "[194730 rows x 13 columns]\n"
     ]
    }
   ],
   "source": [
    "df = pd.read_csv(Folder_Path +'/'+ file_list[0], \\\n",
    "                 header = None,\\\n",
    "                 names=['x','y','z','D1A','D2A','D1B','D2B','angle','Qtot','Dtot','U','P','C'],\\\n",
    "                 encoding=\"utf8\")  #编码默认UTF-8，若乱码自行更改\n",
    "print(df)"
   ]
  },
  {
   "cell_type": "code",
   "execution_count": 4,
   "id": "charitable-assets",
   "metadata": {},
   "outputs": [
    {
     "name": "stdout",
     "output_type": "stream",
     "text": [
      "13\n"
     ]
    }
   ],
   "source": [
    "velocity = df.values[:, :].astype('float32')\n",
    "print(len(velocity[0]))"
   ]
  },
  {
   "cell_type": "code",
   "execution_count": 5,
   "id": "optional-holder",
   "metadata": {},
   "outputs": [
    {
     "ename": "TypeError",
     "evalue": "unsupported format string passed to DataFrame.__format__",
     "output_type": "error",
     "traceback": [
      "\u001b[1;31m---------------------------------------------------------------------------\u001b[0m",
      "\u001b[1;31mTypeError\u001b[0m                                 Traceback (most recent call last)",
      "\u001b[1;32m<ipython-input-5-1ba9dc75548d>\u001b[0m in \u001b[0;36m<module>\u001b[1;34m\u001b[0m\n\u001b[0;32m      3\u001b[0m \u001b[1;31m# max_min_scaler = lambda x : (x-np.min(x))/(np.max(x)-np.min(x))\u001b[0m\u001b[1;33m\u001b[0m\u001b[1;33m\u001b[0m\u001b[1;33m\u001b[0m\u001b[0m\n\u001b[0;32m      4\u001b[0m \u001b[1;31m#df[['x']] = df[['x']].apply(max_min_scaler)\u001b[0m\u001b[1;33m\u001b[0m\u001b[1;33m\u001b[0m\u001b[1;33m\u001b[0m\u001b[0m\n\u001b[1;32m----> 5\u001b[1;33m \u001b[0mdf\u001b[0m\u001b[1;33m[\u001b[0m\u001b[1;33m[\u001b[0m\u001b[1;34m'x'\u001b[0m\u001b[1;33m]\u001b[0m\u001b[1;33m]\u001b[0m \u001b[1;33m=\u001b[0m \u001b[0mmax_min_scaler\u001b[0m\u001b[1;33m(\u001b[0m\u001b[0mdf\u001b[0m\u001b[1;33m[\u001b[0m\u001b[1;33m[\u001b[0m\u001b[1;34m'x'\u001b[0m\u001b[1;33m]\u001b[0m\u001b[1;33m]\u001b[0m\u001b[1;33m)\u001b[0m\u001b[1;33m\u001b[0m\u001b[1;33m\u001b[0m\u001b[0m\n\u001b[0m\u001b[0;32m      6\u001b[0m \u001b[0mprint\u001b[0m\u001b[1;33m(\u001b[0m\u001b[0mdf\u001b[0m\u001b[1;33m)\u001b[0m\u001b[1;33m\u001b[0m\u001b[1;33m\u001b[0m\u001b[0m\n",
      "\u001b[1;32m<ipython-input-5-1ba9dc75548d>\u001b[0m in \u001b[0;36m<lambda>\u001b[1;34m(x)\u001b[0m\n\u001b[0;32m      1\u001b[0m \u001b[1;31m#####归一化函数#####\u001b[0m\u001b[1;33m\u001b[0m\u001b[1;33m\u001b[0m\u001b[1;33m\u001b[0m\u001b[0m\n\u001b[1;32m----> 2\u001b[1;33m \u001b[0mmax_min_scaler\u001b[0m \u001b[1;33m=\u001b[0m \u001b[1;32mlambda\u001b[0m \u001b[0mx\u001b[0m \u001b[1;33m:\u001b[0m \u001b[0mfloat\u001b[0m\u001b[1;33m(\u001b[0m\u001b[0mformat\u001b[0m\u001b[1;33m(\u001b[0m\u001b[1;33m(\u001b[0m\u001b[0mx\u001b[0m\u001b[1;33m-\u001b[0m\u001b[0mnp\u001b[0m\u001b[1;33m.\u001b[0m\u001b[0mmin\u001b[0m\u001b[1;33m(\u001b[0m\u001b[0mx\u001b[0m\u001b[1;33m)\u001b[0m\u001b[1;33m)\u001b[0m\u001b[1;33m/\u001b[0m\u001b[1;33m(\u001b[0m\u001b[0mnp\u001b[0m\u001b[1;33m.\u001b[0m\u001b[0mmax\u001b[0m\u001b[1;33m(\u001b[0m\u001b[0mx\u001b[0m\u001b[1;33m)\u001b[0m\u001b[1;33m-\u001b[0m\u001b[0mnp\u001b[0m\u001b[1;33m.\u001b[0m\u001b[0mmin\u001b[0m\u001b[1;33m(\u001b[0m\u001b[0mx\u001b[0m\u001b[1;33m)\u001b[0m\u001b[1;33m)\u001b[0m\u001b[1;33m,\u001b[0m\u001b[1;34m'.2g'\u001b[0m\u001b[1;33m)\u001b[0m\u001b[1;33m)\u001b[0m\u001b[1;33m\u001b[0m\u001b[1;33m\u001b[0m\u001b[0m\n\u001b[0m\u001b[0;32m      3\u001b[0m \u001b[1;31m# max_min_scaler = lambda x : (x-np.min(x))/(np.max(x)-np.min(x))\u001b[0m\u001b[1;33m\u001b[0m\u001b[1;33m\u001b[0m\u001b[1;33m\u001b[0m\u001b[0m\n\u001b[0;32m      4\u001b[0m \u001b[1;31m#df[['x']] = df[['x']].apply(max_min_scaler)\u001b[0m\u001b[1;33m\u001b[0m\u001b[1;33m\u001b[0m\u001b[1;33m\u001b[0m\u001b[0m\n\u001b[0;32m      5\u001b[0m \u001b[0mdf\u001b[0m\u001b[1;33m[\u001b[0m\u001b[1;33m[\u001b[0m\u001b[1;34m'x'\u001b[0m\u001b[1;33m]\u001b[0m\u001b[1;33m]\u001b[0m \u001b[1;33m=\u001b[0m \u001b[0mmax_min_scaler\u001b[0m\u001b[1;33m(\u001b[0m\u001b[0mdf\u001b[0m\u001b[1;33m[\u001b[0m\u001b[1;33m[\u001b[0m\u001b[1;34m'x'\u001b[0m\u001b[1;33m]\u001b[0m\u001b[1;33m]\u001b[0m\u001b[1;33m)\u001b[0m\u001b[1;33m\u001b[0m\u001b[1;33m\u001b[0m\u001b[0m\n",
      "\u001b[1;31mTypeError\u001b[0m: unsupported format string passed to DataFrame.__format__"
     ]
    }
   ],
   "source": [
    "#####归一化函数#####\n",
    "max_min_scaler = lambda x : (x-np.min(x))/(np.max(x)-np.min(x))\n",
    "# max_min_scaler = lambda x : (x-np.min(x))/(np.max(x)-np.min(x))\n",
    "#df[['x']] = df[['x']].apply(max_min_scaler)\n",
    "df[['x']] = max_min_scaler(df[['x']])\n",
    "print(df)"
   ]
  },
  {
   "cell_type": "code",
   "execution_count": null,
   "id": "communist-communist",
   "metadata": {},
   "outputs": [],
   "source": [
    "#df[['x']] = preprocessing.MinMaxScaler().fit_transform(df[['x']])\n",
    "#print(df)"
   ]
  }
 ],
 "metadata": {
  "kernelspec": {
   "display_name": "Python 3",
   "language": "python",
   "name": "python3"
  },
  "language_info": {
   "codemirror_mode": {
    "name": "ipython",
    "version": 3
   },
   "file_extension": ".py",
   "mimetype": "text/x-python",
   "name": "python",
   "nbconvert_exporter": "python",
   "pygments_lexer": "ipython3",
   "version": "3.7.9"
  }
 },
 "nbformat": 4,
 "nbformat_minor": 5
}
